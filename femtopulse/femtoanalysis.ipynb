{
 "cells": [
  {
   "cell_type": "code",
   "execution_count": 62,
   "metadata": {},
   "outputs": [
    {
     "name": "stdout",
     "output_type": "stream",
     "text": [
      "1xsre    0.127004\n",
      "dtype: float64 2xsre    0.637723\n",
      "dtype: float64\n"
     ]
    }
   ],
   "source": [
    "import pandas as pd\n",
    "import numpy as np\n",
    "import matplotlib.pyplot as plt\n",
    "import seaborn as sns\n",
    "\n",
    "# Read the size column and the concentration column\n",
    "df1 = pd.read_csv(\"2023 11 23 10H 57M Electropherogram.csv\", usecols=[\"Size (bp)\", \"A3\"]) # 1xSRE\n",
    "df1.rename(columns={\"Size (bp)\": \"size\", \"A3\": \"1xsre\"}, inplace=True)\n",
    "df2 = pd.read_csv(\"2023 11 30 14H 56M Electropherogram.csv\", usecols=[\"Size (bp)\", \"A2\"]) # 2xSRE\n",
    "df2.rename(columns={\"Size (bp)\": \"size\", \"A2\": \"2xsre\"}, inplace=True)\n",
    "\n",
    "# Remove all the data in \"*xsre\" row if the data in \"size\" row is below 100\n",
    "df1 = df1[df1[\"size\"] > 100]\n",
    "df2 = df2[df2[\"size\"] > 100]\n",
    "\n",
    "# Make the size column as index\n",
    "df1.set_index(\"size\", inplace=True)\n",
    "df2.set_index(\"size\", inplace=True)\n",
    "\n",
    "# Calculate the ratio of values in the dataset whose index is below 10000\n",
    "df1_ratio = df1[df1.index < 10000].sum() / df1.sum()\n",
    "df2_ratio = df2[df2.index < 10000].sum() / df2.sum()\n",
    "\n",
    "print(df1_ratio, df2_ratio)"
   ]
  },
  {
   "cell_type": "code",
   "execution_count": null,
   "metadata": {},
   "outputs": [],
   "source": []
  }
 ],
 "metadata": {
  "kernelspec": {
   "display_name": "Python 3",
   "language": "python",
   "name": "python3"
  },
  "language_info": {
   "codemirror_mode": {
    "name": "ipython",
    "version": 3
   },
   "file_extension": ".py",
   "mimetype": "text/x-python",
   "name": "python",
   "nbconvert_exporter": "python",
   "pygments_lexer": "ipython3",
   "version": "3.11.4"
  }
 },
 "nbformat": 4,
 "nbformat_minor": 2
}
