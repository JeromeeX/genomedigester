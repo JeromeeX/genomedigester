{
 "cells": [
  {
   "cell_type": "code",
   "execution_count": 1,
   "metadata": {},
   "outputs": [],
   "source": [
    "def read_fasta(file_path):\n",
    "    \"\"\"\n",
    "    Reads a FASTA file and returns a dictionary where keys are the headers (chromosomes or enzyme names)\n",
    "    and values are the corresponding sequences.\n",
    "    \"\"\"\n",
    "    with open(file_path, 'r') as file:\n",
    "        sequences = {}\n",
    "        header = None # Initiating header to None\n",
    "        sequence = []\n",
    "\n",
    "        for line in file:\n",
    "            line = line.strip()\n",
    "            if line.startswith(\">\"):\n",
    "                if header:\n",
    "                    sequences[header] = ''.join(sequence)\n",
    "                header = line[1:]  # Remove '>' character\n",
    "                sequence = []\n",
    "            else:\n",
    "                sequence.append(line)\n",
    "        \n",
    "        # Add the last sequence\n",
    "        if header:\n",
    "            sequences[header] = ''.join(sequence)\n",
    "\n",
    "    return sequences"
   ]
  },
  {
   "cell_type": "code",
   "execution_count": 36,
   "metadata": {},
   "outputs": [
    {
     "data": {
      "text/plain": [
       "{'EcoRI': ['GAATTC', 3], 'HindIII': ['AAGCTT', 1], 'BsrI': ['ACTGG[ACTG]', 6]}"
      ]
     },
     "execution_count": 36,
     "metadata": {},
     "output_type": "execute_result"
    }
   ],
   "source": [
    "def restriction_sites(file_path):\n",
    "    \"\"\"\n",
    "    Reads the enzyme file and returns a dictionary where keys are the enzymes and values are a list\n",
    "    consisting cutsite and the nick.\n",
    "    \"\"\"\n",
    "    enzymes = read_fasta(file_path)\n",
    "    for key in enzymes:\n",
    "        nick = enzymes[key].find(\"|\")\n",
    "        enzymes[key] = [enzymes[key].replace(\"|\", \"\").replace(\"N\", \"[ACTG]\").replace(\"Y\", \"[CT]\").replace(\"R\", \"[AG]\"), nick]\n",
    "        # Replace all the placeholders with the corresponding regex\n",
    "    return enzymes"
   ]
  },
  {
   "cell_type": "code",
   "execution_count": 56,
   "metadata": {},
   "outputs": [],
   "source": [
    "import re\n",
    "\n",
    "def find_restriction_sites(genome, enzyme):\n",
    "    \"\"\"\n",
    "    Finds restriction sites in the genome. Returns a dictionary where keys are headers (chromosomes)\n",
    "    and values are lists of positions of the restriction site.\n",
    "    \"\"\"\n",
    "    positions = {}\n",
    "    restriction_site = restriction_sites(\"test_enzyme.fa\")[enzyme]\n",
    "\n",
    "    for chr, seq in genome.items():\n",
    "        positions[chr] = [0]+ [restriction_site[1] + m.start() for m in re.finditer(restriction_site[0], seq)]\n",
    "        # Find all the restriction sites and add the nick to the position, add the first position of the chromosome\n",
    "        if positions[chr][-1] != len(seq):\n",
    "            positions[chr].append(len(seq))\n",
    "        # Add the last position of the chromosome\n",
    "\n",
    "    return positions\n"
   ]
  },
  {
   "cell_type": "code",
   "execution_count": 57,
   "metadata": {},
   "outputs": [
    {
     "data": {
      "text/plain": [
       "{'I': [0, 3, 9, 15, 21, 27, 30], 'II': [0, 30], 'III': [0, 21, 27, 30]}"
      ]
     },
     "execution_count": 57,
     "metadata": {},
     "output_type": "execute_result"
    }
   ],
   "source": [
    "find_restriction_sites(read_fasta(\"test_genome.fa\"), \"EcoRI\")"
   ]
  },
  {
   "cell_type": "code",
   "execution_count": 52,
   "metadata": {},
   "outputs": [],
   "source": [
    "def calculate_distances(sites):\n",
    "    \"\"\"\n",
    "    Calculates the distances between the restriction sites. Returns a dictionary where keys are\n",
    "    headers (chromosomes) and values are lists of distances between the restriction sites.\n",
    "    \"\"\"\n",
    "    distances = {}\n",
    "    for chr, site in sites.items():\n",
    "        distances[chr] = [site[i+1] - site[i] for i in range(len(site)-1)]\n",
    "    return distances"
   ]
  },
  {
   "cell_type": "code",
   "execution_count": 53,
   "metadata": {},
   "outputs": [
    {
     "data": {
      "text/plain": [
       "{'I': [3, 6, 6, 6, 6, 3], 'II': [30], 'III': [21, 6, 3]}"
      ]
     },
     "execution_count": 53,
     "metadata": {},
     "output_type": "execute_result"
    }
   ],
   "source": [
    "calculate_distances(find_restriction_sites(read_fasta(\"test_genome.fa\"), \"EcoRI\"))"
   ]
  }
 ],
 "metadata": {
  "kernelspec": {
   "display_name": "Python 3",
   "language": "python",
   "name": "python3"
  },
  "language_info": {
   "codemirror_mode": {
    "name": "ipython",
    "version": 3
   },
   "file_extension": ".py",
   "mimetype": "text/x-python",
   "name": "python",
   "nbconvert_exporter": "python",
   "pygments_lexer": "ipython3",
   "version": "3.11.4"
  }
 },
 "nbformat": 4,
 "nbformat_minor": 2
}
